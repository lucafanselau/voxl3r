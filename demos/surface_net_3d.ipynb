{
 "cells": [
  {
   "cell_type": "code",
   "execution_count": 1,
   "metadata": {},
   "outputs": [
    {
     "data": {
      "text/plain": [
       "'/home/luca/uni/master/dl-in-vc/voxl3r'"
      ]
     },
     "execution_count": 1,
     "metadata": {},
     "output_type": "execute_result"
    }
   ],
   "source": [
    "%load_ext autoreload\n",
    "%autoreload 2\n",
    "%pwd"
   ]
  },
  {
   "cell_type": "code",
   "execution_count": 2,
   "metadata": {},
   "outputs": [],
   "source": [
    "# setup PYTHONPATH\n",
    "import sys\n",
    "sys.path += ['.', './extern/scannetpp', './extern/mast3r', './extern/mast3r/dust3r']"
   ]
  },
  {
   "cell_type": "code",
   "execution_count": 3,
   "metadata": {},
   "outputs": [],
   "source": [
    "from pathlib import Path\n",
    "import torch\n",
    "from torchvision.io import read_image\n",
    "\n",
    "import pyvista as pv\n",
    "pv.set_jupyter_backend('client')"
   ]
  },
  {
   "cell_type": "code",
   "execution_count": 4,
   "metadata": {},
   "outputs": [],
   "source": [
    "pv.start_xvfb()"
   ]
  },
  {
   "cell_type": "code",
   "execution_count": 5,
   "metadata": {},
   "outputs": [
    {
     "name": "stdout",
     "output_type": "stream",
     "text": [
      "Last training is bj7r6o9k\n"
     ]
    }
   ],
   "source": [
    "import os\n",
    "\n",
    "\n",
    "ckpt_folder = list(\n",
    "        Path(\"./.lightning/surface-net-3d/surface-net-3d/\").glob(\"*\")\n",
    "    )\n",
    "ckpt_folder = sorted(ckpt_folder, key=os.path.getmtime)\n",
    "last_ckpt_folder = ckpt_folder[-1]\n",
    "run_name = last_ckpt_folder.stem\n",
    "print(f\"Last training is {run_name}\")\n"
   ]
  },
  {
   "cell_type": "code",
   "execution_count": null,
   "metadata": {},
   "outputs": [],
   "source": []
  },
  {
   "cell_type": "code",
   "execution_count": 6,
   "metadata": {},
   "outputs": [],
   "source": [
    "import glob\n",
    "\n",
    "\n",
    "base_dir = '/home/luca/mnt/data/scannetpp/data'\n",
    "pattern = os.path.join(base_dir, '*', 'prepared_grids', 'dslr', '*furthest_center_1.47')\n",
    "matching_paths = glob.glob(pattern)\n",
    "\n",
    "# Extract the parent directories (two levels up from 'undistorted_images')\n",
    "scenes = [os.path.basename(os.path.dirname(os.path.dirname(os.path.dirname(path)))) for path in matching_paths]\n",
    "    "
   ]
  },
  {
   "cell_type": "code",
   "execution_count": 12,
   "metadata": {},
   "outputs": [],
   "source": [
    "for path in matching_paths:\n",
    "    if Path(path).exists() is False:\n",
    "        print(path)\n",
    "        continue\n"
   ]
  },
  {
   "cell_type": "code",
   "execution_count": 7,
   "metadata": {},
   "outputs": [
    {
     "ename": "ImportError",
     "evalue": "cannot import name 'create_chunk' from partially initialized module 'utils.chunking' (most likely due to a circular import) (/home/luca/uni/master/dl-in-vc/voxl3r/utils/chunking.py)",
     "output_type": "error",
     "traceback": [
      "\u001b[0;31m---------------------------------------------------------------------------\u001b[0m",
      "\u001b[0;31mImportError\u001b[0m                               Traceback (most recent call last)",
      "Cell \u001b[0;32mIn[7], line 2\u001b[0m\n\u001b[1;32m      1\u001b[0m \u001b[38;5;28;01mimport\u001b[39;00m \u001b[38;5;21;01mos\u001b[39;00m\n\u001b[0;32m----> 2\u001b[0m \u001b[38;5;28;01mfrom\u001b[39;00m \u001b[38;5;21;01mmodels\u001b[39;00m\u001b[38;5;21;01m.\u001b[39;00m\u001b[38;5;21;01msurface_net_3d\u001b[39;00m\u001b[38;5;21;01m.\u001b[39;00m\u001b[38;5;21;01mdata\u001b[39;00m \u001b[38;5;28;01mimport\u001b[39;00m SurfaceNet3DDataConfig\n\u001b[1;32m      3\u001b[0m \u001b[38;5;28;01mfrom\u001b[39;00m \u001b[38;5;21;01mmodels\u001b[39;00m\u001b[38;5;21;01m.\u001b[39;00m\u001b[38;5;21;01msurface_net_3d\u001b[39;00m\u001b[38;5;21;01m.\u001b[39;00m\u001b[38;5;21;01mrun\u001b[39;00m \u001b[38;5;28;01mimport\u001b[39;00m visualize_run\n\u001b[1;32m      4\u001b[0m \u001b[38;5;28;01mfrom\u001b[39;00m \u001b[38;5;21;01mutils\u001b[39;00m\u001b[38;5;21;01m.\u001b[39;00m\u001b[38;5;21;01mdata_parsing\u001b[39;00m \u001b[38;5;28;01mimport\u001b[39;00m load_yaml_munch\n",
      "File \u001b[0;32m~/uni/master/dl-in-vc/voxl3r/models/surface_net_3d/data.py:25\u001b[0m\n\u001b[1;32m     17\u001b[0m \u001b[38;5;28;01mfrom\u001b[39;00m \u001b[38;5;21;01mpositional_encodings\u001b[39;00m\u001b[38;5;21;01m.\u001b[39;00m\u001b[38;5;21;01mtorch_encodings\u001b[39;00m \u001b[38;5;28;01mimport\u001b[39;00m PositionalEncoding3D\n\u001b[1;32m     20\u001b[0m \u001b[38;5;28;01mfrom\u001b[39;00m \u001b[38;5;21;01mdataset\u001b[39;00m \u001b[38;5;28;01mimport\u001b[39;00m (\n\u001b[1;32m     21\u001b[0m     SceneDataset,\n\u001b[1;32m     22\u001b[0m     SceneDatasetTransformLoadImages,\n\u001b[1;32m     23\u001b[0m     SceneDatasetTransformToTorch,\n\u001b[1;32m     24\u001b[0m )\n\u001b[0;32m---> 25\u001b[0m \u001b[38;5;28;01mfrom\u001b[39;00m \u001b[38;5;21;01mutils\u001b[39;00m\u001b[38;5;21;01m.\u001b[39;00m\u001b[38;5;21;01mchunking\u001b[39;00m \u001b[38;5;28;01mimport\u001b[39;00m (\n\u001b[1;32m     26\u001b[0m     compute_coordinates,\n\u001b[1;32m     27\u001b[0m     compute_feature_grid,\n\u001b[1;32m     28\u001b[0m     create_chunk,\n\u001b[1;32m     29\u001b[0m     mesh_2_local_voxels,\n\u001b[1;32m     30\u001b[0m     mesh_2_voxels,\n\u001b[1;32m     31\u001b[0m )\n\u001b[1;32m     32\u001b[0m \u001b[38;5;28;01mfrom\u001b[39;00m \u001b[38;5;21;01mutils\u001b[39;00m\u001b[38;5;21;01m.\u001b[39;00m\u001b[38;5;21;01mdata_parsing\u001b[39;00m \u001b[38;5;28;01mimport\u001b[39;00m load_yaml_munch\n\u001b[1;32m     33\u001b[0m \u001b[38;5;28;01mfrom\u001b[39;00m \u001b[38;5;21;01mutils\u001b[39;00m\u001b[38;5;21;01m.\u001b[39;00m\u001b[38;5;21;01mtransformations\u001b[39;00m \u001b[38;5;28;01mimport\u001b[39;00m invert_pose\n",
      "File \u001b[0;32m~/uni/master/dl-in-vc/voxl3r/utils/chunking.py:10\u001b[0m\n\u001b[1;32m      7\u001b[0m \u001b[38;5;28;01mimport\u001b[39;00m \u001b[38;5;21;01mtorch\u001b[39;00m\n\u001b[1;32m      8\u001b[0m \u001b[38;5;28;01mimport\u001b[39;00m \u001b[38;5;21;01mtrimesh\u001b[39;00m\n\u001b[0;32m---> 10\u001b[0m \u001b[38;5;28;01mfrom\u001b[39;00m \u001b[38;5;21;01mmodels\u001b[39;00m\u001b[38;5;21;01m.\u001b[39;00m\u001b[38;5;21;01msurface_net_3d\u001b[39;00m\u001b[38;5;21;01m.\u001b[39;00m\u001b[38;5;21;01mprojection\u001b[39;00m \u001b[38;5;28;01mimport\u001b[39;00m project_voxel_grid_to_images_seperate\n\u001b[1;32m     11\u001b[0m \u001b[38;5;28;01mfrom\u001b[39;00m \u001b[38;5;21;01mutils\u001b[39;00m\u001b[38;5;21;01m.\u001b[39;00m\u001b[38;5;21;01mtransformations\u001b[39;00m \u001b[38;5;28;01mimport\u001b[39;00m invert_pose, project_image_plane\n\u001b[1;32m     14\u001b[0m \u001b[38;5;28;01mdef\u001b[39;00m \u001b[38;5;21mget_images_with_3d_point\u001b[39m(\n\u001b[1;32m     15\u001b[0m     points, camera_params, keys\u001b[38;5;241m=\u001b[39m\u001b[38;5;28;01mNone\u001b[39;00m, tolerance\u001b[38;5;241m=\u001b[39m\u001b[38;5;241m0.9\u001b[39m, max_seq_len\u001b[38;5;241m=\u001b[39m\u001b[38;5;241m8\u001b[39m\n\u001b[1;32m     16\u001b[0m ):\n",
      "File \u001b[0;32m~/uni/master/dl-in-vc/voxl3r/models/surface_net_3d/projection.py:15\u001b[0m\n\u001b[1;32m     12\u001b[0m \u001b[38;5;28;01mfrom\u001b[39;00m \u001b[38;5;21;01mtqdm\u001b[39;00m \u001b[38;5;28;01mimport\u001b[39;00m tqdm\n\u001b[1;32m     13\u001b[0m \u001b[38;5;28;01mfrom\u001b[39;00m \u001b[38;5;21;01mpositional_encodings\u001b[39;00m\u001b[38;5;21;01m.\u001b[39;00m\u001b[38;5;21;01mtorch_encodings\u001b[39;00m \u001b[38;5;28;01mimport\u001b[39;00m PositionalEncoding3D\n\u001b[0;32m---> 15\u001b[0m \u001b[38;5;28;01mfrom\u001b[39;00m \u001b[38;5;21;01mutils\u001b[39;00m\u001b[38;5;21;01m.\u001b[39;00m\u001b[38;5;21;01mchunking\u001b[39;00m \u001b[38;5;28;01mimport\u001b[39;00m create_chunk, mesh_2_voxels\n\u001b[1;32m     18\u001b[0m \u001b[38;5;66;03m# Implementation of positional encoding for\u001b[39;00m\n\u001b[1;32m     19\u001b[0m \n\u001b[1;32m     20\u001b[0m \u001b[38;5;66;03m# def get_emb(sin_inp):\u001b[39;00m\n\u001b[0;32m   (...)\u001b[0m\n\u001b[1;32m     83\u001b[0m \n\u001b[1;32m     84\u001b[0m \u001b[38;5;66;03m# Singleton, so that we can hook into the caching mechanism\u001b[39;00m\n\u001b[1;32m     85\u001b[0m pe \u001b[38;5;241m=\u001b[39m \u001b[38;5;28;01mNone\u001b[39;00m  \u001b[38;5;66;03m# PositionalEncoding3D(channels).to(grid.device)\u001b[39;00m\n",
      "\u001b[0;31mImportError\u001b[0m: cannot import name 'create_chunk' from partially initialized module 'utils.chunking' (most likely due to a circular import) (/home/luca/uni/master/dl-in-vc/voxl3r/utils/chunking.py)"
     ]
    }
   ],
   "source": [
    "import os\n",
    "from experiments.surface_net_3d.data import SurfaceNet3DDataConfig\n",
    "from experiments.surface_net_3d.run import visualize_run\n",
    "from utils.data_parsing import load_yaml_munch\n",
    "\n",
    "config = load_yaml_munch(\"./utils/config.yaml\")\n",
    "data_config = SurfaceNet3DDataConfig(data_dir=config.data_dir, batch_size=16, num_workers=1, with_furthest_displacement=True, scenes=scenes, concatinate_pe=True)\n",
    "\n",
    "\n",
    "visualize_run(run_name, 500, 101, show = [\"val\"], data_config=data_config)"
   ]
  },
  {
   "cell_type": "code",
   "execution_count": null,
   "metadata": {},
   "outputs": [],
   "source": [
    "import numpy as np\n",
    "from dataset import SceneDataset\n",
    "from experiments.surface_net_3d.data import SurfaceNet3DDataConfig\n",
    "from utils.chunking import create_chunk, mesh_2_voxels\n",
    "from utils.data_parsing import load_yaml_munch\n",
    "from utils.transformations import invert_pose\n",
    "from utils.visualize import visualize_mesh\n",
    "\n",
    "scene = \"4c5c60fa76\"\n",
    "image_name = \"DSC09946.JPG\"\n",
    "\n",
    "\n",
    "resolution = data_config.grid_resolution\n",
    "grid_size = data_config.grid_size\n",
    "max_seq_len = data_config.seq_len\n",
    "\n",
    "chunk_size = resolution * grid_size.astype(np.float32)\n",
    "center = np.array([0.0, 0.0, chunk_size[2]])\n",
    "\n",
    "dataset = SceneDataset(\n",
    "            camera=data_config.camera,\n",
    "            data_dir=data_config.data_dir,\n",
    "            scenes=data_config.scenes,\n",
    "        )\n",
    "\n",
    "idx = dataset.get_index_from_scene(scene)\n",
    "\n",
    "data = dataset[idx]\n",
    "mesh = data[\"mesh\"]\n",
    "path_images = data[\"path_images\"]\n",
    "camera_params = data[\"camera_params\"]\n",
    "\n",
    "data_chunk = create_chunk(mesh.copy(), image_name, camera_params, max_seq_len=max_seq_len, image_path=path_images, center=center, size=chunk_size, with_backtransform=True)\n",
    "\n",
    "T_cw = camera_params[image_name]['T_cw']\n",
    "_, _, T_wc = invert_pose(T_cw[:3,:3], T_cw[:3,3])\n",
    "\n",
    "mesh_chunk_backtransformer = data_chunk[\"backtransformed\"]\n",
    "mesh_chunk = data_chunk[\"mesh\"]\n",
    "image_names_chunk = data_chunk[\"image_names\"]\n",
    "camera_params_chunk = data_chunk[\"camera_params\"]\n",
    "p_center = data_chunk[\"p_center\"]\n",
    "\n",
    "print(f\"Chunk size: {chunk_size}\")\n",
    "print(f\"Center: {center}\")\n",
    "print(f\"Resolution: {resolution}\")"
   ]
  },
  {
   "cell_type": "code",
   "execution_count": null,
   "metadata": {},
   "outputs": [],
   "source": [
    "visualize_mesh(mesh_chunk_backtransformer, images=image_names_chunk, camera_params_list=camera_params_chunk.values(), opacity=1.0)"
   ]
  },
  {
   "cell_type": "code",
   "execution_count": null,
   "metadata": {},
   "outputs": [],
   "source": [
    "data_chunk = create_chunk(mesh.copy(), image_name, camera_params, max_seq_len=max_seq_len, image_path=path_images, center=center, size=chunk_size, with_backtransform=True, with_furthest_displacement=True)\n",
    "\n",
    "T_cw = camera_params[image_name]['T_cw']\n",
    "_, _, T_wc = invert_pose(T_cw[:3,:3], T_cw[:3,3])\n",
    "\n",
    "mesh_chunk_backtransformer = data_chunk[\"backtransformed\"]\n",
    "mesh_chunk = data_chunk[\"mesh\"]\n",
    "image_names_chunk = data_chunk[\"image_names\"]\n",
    "camera_params_chunk = data_chunk[\"camera_params\"]\n",
    "p_center = data_chunk[\"p_center\"]\n",
    "\n",
    "print(f\"Chunk size: {chunk_size}\")\n",
    "print(f\"Center: {center}\")\n",
    "print(f\"Resolution: {resolution}\")"
   ]
  },
  {
   "cell_type": "code",
   "execution_count": null,
   "metadata": {},
   "outputs": [],
   "source": [
    "visualize_mesh(mesh_chunk_backtransformer, images=image_names_chunk, camera_params_list=camera_params_chunk.values(), opacity=1.0)"
   ]
  },
  {
   "cell_type": "code",
   "execution_count": null,
   "metadata": {},
   "outputs": [],
   "source": [
    "voxel_grid, coordinates, occupancy_values = mesh_2_voxels(mesh_chunk, voxel_size=0.02, to_world_coordinates=T_wc)\n",
    "print(f\"Occupancy values: {occupancy_values.sum()}\")\n",
    "visualize_mesh(voxel_grid.as_boxes(), images=image_names_chunk, camera_params_list=camera_params_chunk.values(), opacity=1.0)"
   ]
  },
  {
   "cell_type": "code",
   "execution_count": null,
   "metadata": {},
   "outputs": [],
   "source": [
    "from utils.chunking import mesh_2_local_voxels\n",
    "from utils.transformations import invert_pose\n",
    "\n",
    "voxel_grid_local, coordinates_local, occupancy_values_local  = mesh_2_local_voxels(mesh_chunk_backtransformer,  center, 0.02, grid_size[0])\n",
    "visualize_mesh(voxel_grid_local.as_boxes(), images=image_names_chunk, camera_params_list=camera_params_chunk.values(), opacity=1.0)"
   ]
  },
  {
   "cell_type": "code",
   "execution_count": null,
   "metadata": {},
   "outputs": [],
   "source": [
    "from utils.chunking import mesh_2_local_voxels\n",
    "from utils.transformations import invert_pose\n",
    "\n",
    "\n",
    "T_cw = camera_params[image_name]['T_cw']\n",
    "_, _, T_wc = invert_pose(T_cw[:3,:3], T_cw[:3,3])\n",
    "\n",
    "voxel_grid_local, coordinates_local, occupancy_values_local  = mesh_2_local_voxels(mesh_chunk,  center, 0.02, grid_size[0])\n",
    "visualize_mesh(voxel_grid_local.as_boxes(), images=image_names_chunk, camera_params_list=camera_params_chunk.values(), opacity=1.0)"
   ]
  }
 ],
 "metadata": {
  "kernelspec": {
   "display_name": "voxl3r-xXnK9ReQ-py3.12",
   "language": "python",
   "name": "python3"
  },
  "language_info": {
   "codemirror_mode": {
    "name": "ipython",
    "version": 3
   },
   "file_extension": ".py",
   "mimetype": "text/x-python",
   "name": "python",
   "nbconvert_exporter": "python",
   "pygments_lexer": "ipython3",
   "version": "3.12.3"
  }
 },
 "nbformat": 4,
 "nbformat_minor": 2
}
