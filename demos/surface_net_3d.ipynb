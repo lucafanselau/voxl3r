{
 "cells": [
  {
   "cell_type": "code",
   "execution_count": 1,
   "metadata": {},
   "outputs": [
    {
     "data": {
      "text/plain": [
       "'/home/luca/uni/master/dl-in-vc/voxl3r'"
      ]
     },
     "execution_count": 1,
     "metadata": {},
     "output_type": "execute_result"
    }
   ],
   "source": [
    "%load_ext autoreload\n",
    "%autoreload 2\n",
    "%pwd"
   ]
  },
  {
   "cell_type": "code",
   "execution_count": 2,
   "metadata": {},
   "outputs": [],
   "source": [
    "# setup PYTHONPATH\n",
    "import sys\n",
    "sys.path += ['.', './extern/scannetpp', './extern/mast3r', './extern/mast3r/dust3r']"
   ]
  },
  {
   "cell_type": "code",
   "execution_count": 3,
   "metadata": {},
   "outputs": [],
   "source": [
    "from pathlib import Path\n",
    "import torch\n",
    "from torchvision.io import read_image\n",
    "\n",
    "import pyvista as pv\n",
    "pv.set_jupyter_backend('client')"
   ]
  },
  {
   "cell_type": "code",
   "execution_count": 4,
   "metadata": {},
   "outputs": [],
   "source": [
    "pv.start_xvfb()"
   ]
  },
  {
   "cell_type": "code",
   "execution_count": 9,
   "metadata": {},
   "outputs": [
    {
     "name": "stdout",
     "output_type": "stream",
     "text": [
      "No best_ckpts.pt found, falling back to last checkpoint\n",
      "No data_config found in checkpoint, using default\n",
      "First image of training is: /home/luca/mnt/data/scannetpp/data/0cf2e9402d/iphone/rgb/frame_006860.jpg\n",
      "Chunk size was [1.28 1.28 1.28], resolution was 0.02, center was [0.         0.         1.47199988]\n",
      "Grid size was 64\n",
      "First image of validation is: /home/luca/mnt/data/scannetpp/data/0cf2e9402d/iphone/rgb/frame_004590.jpg\n",
      "Chunk size was [1.28 1.28 1.28], resolution was 0.02, center was [0.         0.         1.47199988]\n",
      "First image of test is: /home/luca/mnt/data/scannetpp/data/0cf2e9402d/iphone/rgb/frame_006820.jpg\n",
      "Chunk size was [1.28 1.28 1.28], resolution was 0.02, center was [0.         0.         1.47199988]\n"
     ]
    },
    {
     "data": {
      "application/vnd.jupyter.widget-view+json": {
       "model_id": "12425e5a3773461ca04e2a1c9557c620",
       "version_major": 2,
       "version_minor": 0
      },
      "text/plain": [
       "Widget(value='<iframe src=\"http://localhost:41685/index.html?ui=P_0x74afdc555ee0_4&reconnect=auto\" class=\"pyvi…"
      ]
     },
     "metadata": {},
     "output_type": "display_data"
    },
    {
     "ename": "AttributeError",
     "evalue": "\nThis plotter has not yet been set up and rendered with ``show()``.\nConsider setting ``off_screen=True`` for off screen rendering.\n",
     "output_type": "error",
     "traceback": [
      "\u001b[0;31m---------------------------------------------------------------------------\u001b[0m",
      "\u001b[0;31mAttributeError\u001b[0m                            Traceback (most recent call last)",
      "Cell \u001b[0;32mIn[9], line 5\u001b[0m\n\u001b[1;32m      1\u001b[0m \u001b[38;5;28;01mfrom\u001b[39;00m \u001b[38;5;21;01mmodels\u001b[39;00m\u001b[38;5;21;01m.\u001b[39;00m\u001b[38;5;21;01msurface_net_3d\u001b[39;00m\u001b[38;5;21;01m.\u001b[39;00m\u001b[38;5;21;01mrun\u001b[39;00m \u001b[38;5;28;01mimport\u001b[39;00m visualize_run\n\u001b[1;32m      3\u001b[0m run_name \u001b[38;5;241m=\u001b[39m \u001b[38;5;124m\"\u001b[39m\u001b[38;5;124m0kvmt93e\u001b[39m\u001b[38;5;124m\"\u001b[39m\n\u001b[0;32m----> 5\u001b[0m \u001b[43mvisualize_run\u001b[49m\u001b[43m(\u001b[49m\u001b[43mrun_name\u001b[49m\u001b[43m)\u001b[49m\n",
      "File \u001b[0;32m~/uni/master/dl-in-vc/voxl3r/models/surface_net_3d/run.py:151\u001b[0m, in \u001b[0;36mvisualize_run\u001b[0;34m(run_name)\u001b[0m\n\u001b[1;32m    149\u001b[0m \u001b[38;5;66;03m# Save visualization\u001b[39;00m\n\u001b[1;32m    150\u001b[0m save_path \u001b[38;5;241m=\u001b[39m ckpt_dir \u001b[38;5;241m/\u001b[39m \u001b[38;5;124m\"\u001b[39m\u001b[38;5;124moccupancy_comparison.png\u001b[39m\u001b[38;5;124m\"\u001b[39m\n\u001b[0;32m--> 151\u001b[0m \u001b[43mvisualize_voxel_grids\u001b[49m\u001b[43m(\u001b[49m\n\u001b[1;32m    152\u001b[0m \u001b[43m    \u001b[49m\u001b[43mcombined_occupancy\u001b[49m\u001b[38;5;241;43m.\u001b[39;49m\u001b[43mdetach\u001b[49m\u001b[43m(\u001b[49m\u001b[43m)\u001b[49m\u001b[38;5;241;43m.\u001b[39;49m\u001b[43mcpu\u001b[49m\u001b[43m(\u001b[49m\u001b[43m)\u001b[49m\u001b[43m,\u001b[49m\u001b[43m  \u001b[49m\u001b[38;5;66;43;03m# Repeat channels for RGB\u001b[39;49;00m\n\u001b[1;32m    153\u001b[0m \u001b[43m    \u001b[49m\u001b[43mconfig\u001b[49m\u001b[38;5;241;43m=\u001b[39;49m\u001b[43mvis_config\u001b[49m\u001b[43m,\u001b[49m\n\u001b[1;32m    154\u001b[0m \u001b[43m    \u001b[49m\u001b[43mlabels\u001b[49m\u001b[38;5;241;43m=\u001b[39;49m\u001b[43mlabels\u001b[49m\u001b[43m,\u001b[49m\n\u001b[1;32m    155\u001b[0m \u001b[43m    \u001b[49m\u001b[43mmask\u001b[49m\u001b[38;5;241;43m=\u001b[39;49m\u001b[43mmask\u001b[49m\u001b[43m,\u001b[49m\n\u001b[1;32m    156\u001b[0m \u001b[43m    \u001b[49m\u001b[43msave_path\u001b[49m\u001b[38;5;241;43m=\u001b[39;49m\u001b[38;5;28;43mstr\u001b[39;49m\u001b[43m(\u001b[49m\u001b[43msave_path\u001b[49m\u001b[43m)\u001b[49m\u001b[43m,\u001b[49m\n\u001b[1;32m    157\u001b[0m \u001b[43m\u001b[49m\u001b[43m)\u001b[49m\n\u001b[1;32m    158\u001b[0m \u001b[38;5;28mprint\u001b[39m(\u001b[38;5;124mf\u001b[39m\u001b[38;5;124m\"\u001b[39m\u001b[38;5;124mSaved visualization to \u001b[39m\u001b[38;5;132;01m{\u001b[39;00msave_path\u001b[38;5;132;01m}\u001b[39;00m\u001b[38;5;124m\"\u001b[39m)\n",
      "File \u001b[0;32m~/uni/master/dl-in-vc/voxl3r/models/surface_net_3d/visualize.py:321\u001b[0m, in \u001b[0;36mvisualize_voxel_grids\u001b[0;34m(voxels, config, save_path, mask, labels)\u001b[0m\n\u001b[1;32m    318\u001b[0m     visualizer\u001b[38;5;241m.\u001b[39mvisualize_batch(voxels, mask\u001b[38;5;241m=\u001b[39mmask, labels\u001b[38;5;241m=\u001b[39mlabels)\n\u001b[1;32m    320\u001b[0m \u001b[38;5;28;01mif\u001b[39;00m save_path \u001b[38;5;129;01mis\u001b[39;00m \u001b[38;5;129;01mnot\u001b[39;00m \u001b[38;5;28;01mNone\u001b[39;00m:\n\u001b[0;32m--> 321\u001b[0m     \u001b[43mvisualizer\u001b[49m\u001b[38;5;241;43m.\u001b[39;49m\u001b[43msave_screenshot\u001b[49m\u001b[43m(\u001b[49m\u001b[43msave_path\u001b[49m\u001b[43m)\u001b[49m\n\u001b[1;32m    323\u001b[0m visualizer\u001b[38;5;241m.\u001b[39mclose()\n",
      "File \u001b[0;32m~/uni/master/dl-in-vc/voxl3r/models/surface_net_3d/visualize.py:295\u001b[0m, in \u001b[0;36mVoxelGridVisualizer.save_screenshot\u001b[0;34m(self, filename)\u001b[0m\n\u001b[1;32m    293\u001b[0m \u001b[38;5;28;01mdef\u001b[39;00m \u001b[38;5;21msave_screenshot\u001b[39m(\u001b[38;5;28mself\u001b[39m, filename: \u001b[38;5;28mstr\u001b[39m):\n\u001b[1;32m    294\u001b[0m \u001b[38;5;250m    \u001b[39m\u001b[38;5;124;03m\"\"\"Save the current view to an image file.\"\"\"\u001b[39;00m\n\u001b[0;32m--> 295\u001b[0m     \u001b[38;5;28;43mself\u001b[39;49m\u001b[38;5;241;43m.\u001b[39;49m\u001b[43mplotter\u001b[49m\u001b[38;5;241;43m.\u001b[39;49m\u001b[43mscreenshot\u001b[49m\u001b[43m(\u001b[49m\u001b[43mfilename\u001b[49m\u001b[43m)\u001b[49m\n",
      "File \u001b[0;32m~/.cache/pypoetry/virtualenvs/voxl3r-xXnK9ReQ-py3.12/lib/python3.12/site-packages/pyvista/plotting/plotter.py:6079\u001b[0m, in \u001b[0;36mBasePlotter.screenshot\u001b[0;34m(self, filename, transparent_background, return_img, window_size, scale)\u001b[0m\n\u001b[1;32m   6077\u001b[0m \u001b[38;5;28;01mwith\u001b[39;00m \u001b[38;5;28mself\u001b[39m\u001b[38;5;241m.\u001b[39mimage_scale_context(scale):\n\u001b[1;32m   6078\u001b[0m     \u001b[38;5;28mself\u001b[39m\u001b[38;5;241m.\u001b[39m_make_render_window_current()\n\u001b[0;32m-> 6079\u001b[0m     \u001b[38;5;28;01mreturn\u001b[39;00m \u001b[38;5;28mself\u001b[39m\u001b[38;5;241m.\u001b[39m_save_image(\u001b[38;5;28;43mself\u001b[39;49m\u001b[38;5;241;43m.\u001b[39;49m\u001b[43mimage\u001b[49m, filename, return_img)\n",
      "File \u001b[0;32m~/.cache/pypoetry/virtualenvs/voxl3r-xXnK9ReQ-py3.12/lib/python3.12/site-packages/pyvista/plotting/plotter.py:1906\u001b[0m, in \u001b[0;36mBasePlotter.image\u001b[0;34m(self)\u001b[0m\n\u001b[1;32m   1903\u001b[0m \u001b[38;5;28;01mif\u001b[39;00m \u001b[38;5;28mself\u001b[39m\u001b[38;5;241m.\u001b[39mrender_window \u001b[38;5;129;01mis\u001b[39;00m \u001b[38;5;28;01mNone\u001b[39;00m \u001b[38;5;129;01mand\u001b[39;00m \u001b[38;5;28mself\u001b[39m\u001b[38;5;241m.\u001b[39mlast_image \u001b[38;5;129;01mis\u001b[39;00m \u001b[38;5;129;01mnot\u001b[39;00m \u001b[38;5;28;01mNone\u001b[39;00m:\n\u001b[1;32m   1904\u001b[0m     \u001b[38;5;28;01mreturn\u001b[39;00m \u001b[38;5;28mself\u001b[39m\u001b[38;5;241m.\u001b[39mlast_image\n\u001b[0;32m-> 1906\u001b[0m \u001b[38;5;28;43mself\u001b[39;49m\u001b[38;5;241;43m.\u001b[39;49m\u001b[43m_check_rendered\u001b[49m\u001b[43m(\u001b[49m\u001b[43m)\u001b[49m\n\u001b[1;32m   1907\u001b[0m \u001b[38;5;28mself\u001b[39m\u001b[38;5;241m.\u001b[39m_check_has_ren_win()\n\u001b[1;32m   1909\u001b[0m data \u001b[38;5;241m=\u001b[39m image_from_window(\u001b[38;5;28mself\u001b[39m\u001b[38;5;241m.\u001b[39mrender_window, scale\u001b[38;5;241m=\u001b[39m\u001b[38;5;28mself\u001b[39m\u001b[38;5;241m.\u001b[39mimage_scale)\n",
      "File \u001b[0;32m~/.cache/pypoetry/virtualenvs/voxl3r-xXnK9ReQ-py3.12/lib/python3.12/site-packages/pyvista/plotting/plotter.py:1866\u001b[0m, in \u001b[0;36mBasePlotter._check_rendered\u001b[0;34m(self)\u001b[0m\n\u001b[1;32m   1864\u001b[0m \u001b[38;5;250m\u001b[39m\u001b[38;5;124;03m\"\"\"Check if the render window has been shown and raise an exception if not.\"\"\"\u001b[39;00m\n\u001b[1;32m   1865\u001b[0m \u001b[38;5;28;01mif\u001b[39;00m \u001b[38;5;129;01mnot\u001b[39;00m \u001b[38;5;28mself\u001b[39m\u001b[38;5;241m.\u001b[39m_rendered:\n\u001b[0;32m-> 1866\u001b[0m     \u001b[38;5;28;01mraise\u001b[39;00m \u001b[38;5;167;01mAttributeError\u001b[39;00m(\n\u001b[1;32m   1867\u001b[0m         \u001b[38;5;124m'\u001b[39m\u001b[38;5;130;01m\\n\u001b[39;00m\u001b[38;5;124mThis plotter has not yet been set up and rendered \u001b[39m\u001b[38;5;124m'\u001b[39m\n\u001b[1;32m   1868\u001b[0m         \u001b[38;5;124m'\u001b[39m\u001b[38;5;124mwith ``show()``.\u001b[39m\u001b[38;5;130;01m\\n\u001b[39;00m\u001b[38;5;124m'\u001b[39m\n\u001b[1;32m   1869\u001b[0m         \u001b[38;5;124m'\u001b[39m\u001b[38;5;124mConsider setting ``off_screen=True`` \u001b[39m\u001b[38;5;124m'\u001b[39m\n\u001b[1;32m   1870\u001b[0m         \u001b[38;5;124m'\u001b[39m\u001b[38;5;124mfor off screen rendering.\u001b[39m\u001b[38;5;130;01m\\n\u001b[39;00m\u001b[38;5;124m'\u001b[39m,\n\u001b[1;32m   1871\u001b[0m     )\n",
      "\u001b[0;31mAttributeError\u001b[0m: \nThis plotter has not yet been set up and rendered with ``show()``.\nConsider setting ``off_screen=True`` for off screen rendering.\n"
     ]
    }
   ],
   "source": [
    "from models.surface_net_3d.run import visualize_run\n",
    "\n",
    "run_name = \"0kvmt93e\"\n",
    "\n",
    "visualize_run(run_name)"
   ]
  },
  {
   "cell_type": "code",
   "execution_count": null,
   "metadata": {},
   "outputs": [],
   "source": []
  },
  {
   "cell_type": "code",
   "execution_count": null,
   "metadata": {},
   "outputs": [],
   "source": [
    "import numpy as np\n",
    "from dataset import SceneDataset\n",
    "from models.surface_net_3d.data import SurfaceNet3DDataConfig\n",
    "from utils.chunking import create_chunk, mesh_2_voxels\n",
    "from utils.data_parsing import load_yaml_munch\n",
    "from utils.transformations import invert_pose\n",
    "from utils.visualize import visualize_mesh\n",
    "\n",
    "config = load_yaml_munch(\"./utils/config.yaml\")\n",
    "data_config = SurfaceNet3DDataConfig(data_dir=config.data_dir, batch_size=2)\n",
    "resolution = data_config.grid_resolution\n",
    "grid_size = data_config.grid_size\n",
    "max_seq_len = data_config.seq_len\n",
    "\n",
    "resolution = 0.02\n",
    "chunk_size = resolution * grid_size.astype(np.float32)\n",
    "center = np.array([0.0, 0.0, chunk_size[2]])\n",
    "\n",
    "dataset = SceneDataset(\n",
    "            camera=data_config.camera,\n",
    "            data_dir=data_config.data_dir,\n",
    "            scenes=data_config.scenes,\n",
    "        )\n",
    "\n",
    "data = dataset[0]\n",
    "mesh = data[\"mesh\"]\n",
    "path_images = data[\"path_images\"]\n",
    "camera_params = data[\"camera_params\"]\n",
    "\n",
    "image_name = \"frame_000860.jpg\"\n",
    "\n",
    "data_chunk = create_chunk(mesh.copy(), image_name, camera_params, max_seq_len=max_seq_len, image_path=path_images, center=center, size=chunk_size, with_backtransform=True)\n",
    "\n",
    "T_cw = camera_params[image_name]['T_cw']\n",
    "_, _, T_wc = invert_pose(T_cw[:3,:3], T_cw[:3,3])\n",
    "\n",
    "mesh_chunk_backtransformer = data_chunk[\"backtransformed\"]\n",
    "mesh_chunk = data_chunk[\"mesh\"]\n",
    "image_names_chunk = data_chunk[\"image_names\"]\n",
    "camera_params_chunk = data_chunk[\"camera_params\"]\n",
    "p_center = data_chunk[\"p_center\"]\n",
    "\n",
    "print(f\"Chunk size: {chunk_size}\")\n",
    "print(f\"Center: {center}\")\n",
    "print(f\"Resolution: {resolution}\")"
   ]
  },
  {
   "cell_type": "code",
   "execution_count": null,
   "metadata": {},
   "outputs": [],
   "source": [
    "data[\"camera_params\"][image_name]['K']"
   ]
  },
  {
   "cell_type": "code",
   "execution_count": null,
   "metadata": {},
   "outputs": [],
   "source": [
    "voxel_grid, coordinates, occupancy_values = mesh_2_voxels(mesh_chunk, voxel_size=0.02, to_world_coordinates=T_wc)\n",
    "mesh_chunk_backtransformer.extents\n",
    "visualize_mesh(voxel_grid.as_boxes(), images=image_names_chunk, camera_params_list=camera_params_chunk.values(), opacity=1.0)"
   ]
  },
  {
   "cell_type": "code",
   "execution_count": null,
   "metadata": {},
   "outputs": [],
   "source": [
    "from utils.chunking import mesh_2_local_voxels\n",
    "from utils.transformations import invert_pose\n",
    "\n",
    "voxel_grid_local, coordinates_local, occupancy_values_local  = mesh_2_local_voxels(mesh_chunk_backtransformer,  center, 0.02, grid_size[0])\n",
    "visualize_mesh(voxel_grid_local.as_boxes(), images=image_names_chunk, camera_params_list=camera_params_chunk.values(), opacity=1.0)"
   ]
  },
  {
   "cell_type": "code",
   "execution_count": null,
   "metadata": {},
   "outputs": [],
   "source": [
    "from utils.chunking import mesh_2_local_voxels\n",
    "from utils.transformations import invert_pose\n",
    "\n",
    "\n",
    "T_cw = camera_params[image_name]['T_cw']\n",
    "_, _, T_wc = invert_pose(T_cw[:3,:3], T_cw[:3,3])\n",
    "\n",
    "voxel_grid_local, coordinates_local, occupancy_values_local  = mesh_2_local_voxels(mesh_chunk,  center, 0.02, grid_size[0])\n",
    "visualize_mesh(voxel_grid_local.as_boxes(), images=image_names_chunk, camera_params_list=camera_params_chunk.values(), opacity=1.0)"
   ]
  }
 ],
 "metadata": {
  "kernelspec": {
   "display_name": "voxl3r-xXnK9ReQ-py3.12",
   "language": "python",
   "name": "python3"
  },
  "language_info": {
   "codemirror_mode": {
    "name": "ipython",
    "version": 3
   },
   "file_extension": ".py",
   "mimetype": "text/x-python",
   "name": "python",
   "nbconvert_exporter": "python",
   "pygments_lexer": "ipython3",
   "version": "3.12.3"
  }
 },
 "nbformat": 4,
 "nbformat_minor": 2
}
