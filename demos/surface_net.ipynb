{
 "cells": [
  {
   "cell_type": "code",
   "execution_count": 1,
   "metadata": {},
   "outputs": [
    {
     "name": "stdout",
     "output_type": "stream",
     "text": [
      "/Users/luis/uni/dl-vc/voxl3r\n"
     ]
    },
    {
     "name": "stderr",
     "output_type": "stream",
     "text": [
      "/Users/luis/uni/dl-vc/voxl3r/.venv/lib/python3.12/site-packages/IPython/core/magics/osm.py:417: UserWarning: This is now an optional IPython functionality, setting dhist requires you to install the `pickleshare` library.\n",
      "  self.shell.db['dhist'] = compress_dhist(dhist)[-100:]\n"
     ]
    }
   ],
   "source": [
    "%load_ext autoreload\n",
    "%autoreload 2\n",
    "%cd .."
   ]
  },
  {
   "cell_type": "code",
   "execution_count": 2,
   "metadata": {},
   "outputs": [],
   "source": [
    "# setup PYTHONPATH\n",
    "import sys\n",
    "sys.path += ['.', './extern/scannetpp', './extern/mast3r', './extern/mast3r/dust3r']"
   ]
  },
  {
   "cell_type": "code",
   "execution_count": 3,
   "metadata": {},
   "outputs": [],
   "source": [
    "from pathlib import Path\n",
    "import torch\n",
    "from torchvision.io import read_image\n",
    "\n",
    "import pyvista as pv\n",
    "pv.set_jupyter_backend('client')\n",
    "\n",
    "from dataset import SceneDataset, SceneDatasetTransformToTorch\n",
    "from einops import rearrange\n",
    "from models.surface_net_baseline.model import SimpleOccNetConfig\n",
    "from models.surface_net_baseline.module import LRConfig, OccSurfaceNet, OptimizerConfig\n",
    "from models.surface_net_baseline.util import project_points_to_images\n",
    "from utils.data_parsing import load_yaml_munch\n",
    "from lightning import Trainer\n",
    "from lightning.pytorch.loggers import WandbLogger\n",
    "import lightning as pl\n",
    "\n",
    "from utils.visualize import visualize_mesh\n",
    "from utils.basic import get_default_device\n"
   ]
  },
  {
   "cell_type": "code",
   "execution_count": null,
   "metadata": {},
   "outputs": [],
   "source": [
    "# Init dataset and load for visualization\n",
    "dataset_tdf = SceneDataset(\n",
    "    data_dir=\"datasets/scannetpp/data\",\n",
    "    camera=\"iphone\",\n",
    "    n_points=300000,\n",
    "    threshold_occ=0.01,\n",
    "    representation=\"tdf\",\n",
    "    visualize=True,\n",
    ")\n",
    "\n",
    "dataset = SceneDataset(\n",
    "    data_dir=\"datasets/scannetpp/data\",\n",
    "    camera=\"iphone\",\n",
    "    n_points=300000,\n",
    "    threshold_occ=0.01,\n",
    "    representation=\"tdf\",\n",
    "    visualize=True,\n",
    ")\n",
    "\n",
    "device = get_default_device()\n",
    "transform = SceneDatasetTransformToTorch(target_device=device)"
   ]
  },
  {
   "cell_type": "code",
   "execution_count": 8,
   "metadata": {},
   "outputs": [
    {
     "name": "stderr",
     "output_type": "stream",
     "text": [
      "/Users/luis/uni/dl-vc/voxl3r/dataset.py:301: UserWarning: To copy construct from a tensor, it is recommended to use sourceTensor.clone().detach() or sourceTensor.clone().detach().requires_grad_(True), rather than torch.tensor(sourceTensor).\n",
      "  points = torch.tensor(torch.from_numpy(points).float()).to(self.target_device)\n",
      "/Users/luis/uni/dl-vc/voxl3r/dataset.py:302: UserWarning: To copy construct from a tensor, it is recommended to use sourceTensor.clone().detach() or sourceTensor.clone().detach().requires_grad_(True), rather than torch.tensor(sourceTensor).\n",
      "  gt = torch.tensor(torch.from_numpy(gt).float()).to(self.target_device)\n"
     ]
    }
   ],
   "source": [
    "idx = dataset.get_index_from_scene(\"8b2c0938d6\")\n",
    "data = dataset[idx]\n",
    "\n",
    "image_names, camera_params_list, _ = data[\"images\"]\n",
    "images, transformations, points, gt = transform.forward(data)\n",
    "# and normalize images\n",
    "images = images / 255.0"
   ]
  },
  {
   "cell_type": "code",
   "execution_count": 9,
   "metadata": {},
   "outputs": [
    {
     "data": {
      "application/vnd.jupyter.widget-view+json": {
       "model_id": "730458c628ca4561ad7c85886ed46be5",
       "version_major": 2,
       "version_minor": 0
      },
      "text/plain": [
       "Widget(value='<iframe src=\"http://localhost:60054/index.html?ui=P_0x2aecff740_1&reconnect=auto\" class=\"pyvista…"
      ]
     },
     "metadata": {},
     "output_type": "display_data"
    }
   ],
   "source": [
    "from dataset import plot_training_example\n",
    "\n",
    "plot_training_example(dataset, idx)"
   ]
  },
  {
   "cell_type": "code",
   "execution_count": 8,
   "metadata": {},
   "outputs": [],
   "source": [
    "\n",
    "# from dataset import plot_mask\n",
    "\n",
    "# plot_mask(dataset, idx)"
   ]
  },
  {
   "cell_type": "code",
   "execution_count": 9,
   "metadata": {},
   "outputs": [
    {
     "name": "stdout",
     "output_type": "stream",
     "text": [
      "Voxel Grid Size (L, W, H): (np.float64(2.0927280955686047), np.float64(2.004165828246644), np.float64(1.308528166040095))\n",
      "Voxel Grid Center: [3.75472152 2.71583842 2.03600226]\n",
      "Occupied Voxels: 7272.0\n"
     ]
    },
    {
     "data": {
      "application/vnd.jupyter.widget-view+json": {
       "model_id": "b6b25ca311714ea8a1b3a03a55357adf",
       "version_major": 2,
       "version_minor": 0
      },
      "text/plain": [
       "Widget(value='<iframe src=\"http://localhost:59905/index.html?ui=P_0x2a77dcaa0_1&reconnect=auto\" class=\"pyvista…"
      ]
     },
     "metadata": {},
     "output_type": "display_data"
    }
   ],
   "source": [
    "from dataset import plot_occupency_grid\n",
    "\n",
    "plot_occupency_grid(dataset, idx)"
   ]
  },
  {
   "cell_type": "code",
   "execution_count": null,
   "metadata": {},
   "outputs": [],
   "source": []
  },
  {
   "cell_type": "code",
   "execution_count": null,
   "metadata": {},
   "outputs": [],
   "source": []
  },
  {
   "cell_type": "code",
   "execution_count": null,
   "metadata": {},
   "outputs": [],
   "source": []
  }
 ],
 "metadata": {
  "kernelspec": {
   "display_name": ".venv",
   "language": "python",
   "name": "python3"
  },
  "language_info": {
   "codemirror_mode": {
    "name": "ipython",
    "version": 3
   },
   "file_extension": ".py",
   "mimetype": "text/x-python",
   "name": "python",
   "nbconvert_exporter": "python",
   "pygments_lexer": "ipython3",
   "version": "3.12.7"
  }
 },
 "nbformat": 4,
 "nbformat_minor": 2
}
