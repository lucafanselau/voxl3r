{
 "cells": [
  {
   "cell_type": "code",
   "execution_count": 1,
   "metadata": {},
   "outputs": [
    {
     "data": {
      "text/plain": [
       "'/Users/luis/uni/dl-vc/voxl3r'"
      ]
     },
     "execution_count": 1,
     "metadata": {},
     "output_type": "execute_result"
    }
   ],
   "source": [
    "%load_ext autoreload\n",
    "%autoreload 2\n",
    "%pwd"
   ]
  },
  {
   "cell_type": "code",
   "execution_count": 2,
   "metadata": {},
   "outputs": [],
   "source": [
    "# setup PYTHONPATH\n",
    "import sys\n",
    "sys.path += ['.', './extern/scannetpp', './extern/mast3r', './extern/mast3r/dust3r']"
   ]
  },
  {
   "cell_type": "code",
   "execution_count": 3,
   "metadata": {},
   "outputs": [],
   "source": [
    "from pathlib import Path\n",
    "import torch\n",
    "from torchvision.io import read_image\n",
    "\n",
    "import pyvista as pv\n",
    "pv.set_jupyter_backend('client')\n",
    "\n",
    "from dataset import SceneDataset, SceneDatasetTransformToTorch\n",
    "from einops import rearrange\n",
    "from models.surface_net_baseline.model import SimpleOccNetConfig\n",
    "from models.surface_net_baseline.module import LRConfig, OccSurfaceNet, OptimizerConfig\n",
    "\n",
    "from utils.data_parsing import load_yaml_munch\n",
    "from lightning import Trainer\n",
    "from lightning.pytorch.loggers import WandbLogger\n",
    "import lightning as pl\n",
    "\n",
    "from utils.visualize import visualize_mesh\n",
    "from utils.basic import get_default_device\n"
   ]
  },
  {
   "cell_type": "code",
   "execution_count": 4,
   "metadata": {},
   "outputs": [],
   "source": [
    "import numpy as np\n",
    "max_seq_len = 4\n",
    "dataset = SceneDataset(\n",
    "        data_dir=\"./datasets/scannetpp/data\",\n",
    "        camera=\"iphone\",\n",
    "    )"
   ]
  },
  {
   "cell_type": "code",
   "execution_count": 5,
   "metadata": {},
   "outputs": [],
   "source": [
    "# scene dataset output\n",
    "data = dataset[0]\n",
    "mesh = data[\"mesh\"]\n",
    "path_images = data[\"path_images\"]\n",
    "camera_params = data[\"camera_params\"]"
   ]
  },
  {
   "cell_type": "code",
   "execution_count": 6,
   "metadata": {},
   "outputs": [],
   "source": [
    "from utils.chunking import create_chunk\n",
    "\n",
    "# get chunk of mesh based of camera\n",
    "data_chunk = create_chunk(mesh.copy(), list(camera_params.keys())[10], camera_params, max_seq_len=8, image_path=path_images, with_backtransform=True)\n",
    "mesh_chunk = data_chunk[\"mesh\"]\n",
    "image_names_chunk = data_chunk[\"image_names\"]\n",
    "camera_params_chunk = data_chunk[\"camera_params\"]\n",
    "p_center = data_chunk[\"p_center\"]"
   ]
  },
  {
   "cell_type": "code",
   "execution_count": 7,
   "metadata": {},
   "outputs": [
    {
     "data": {
      "application/vnd.jupyter.widget-view+json": {
       "model_id": "55d3190ea4564f2d8fb7f0d8e91fe7c7",
       "version_major": 2,
       "version_minor": 0
      },
      "text/plain": [
       "Widget(value='<iframe src=\"http://localhost:65081/index.html?ui=P_0x2aa4e12e0_0&reconnect=auto\" class=\"pyvista…"
      ]
     },
     "metadata": {},
     "output_type": "display_data"
    }
   ],
   "source": [
    "visualize_mesh(mesh_chunk, images=image_names_chunk, camera_params_list=camera_params_chunk.values())"
   ]
  },
  {
   "cell_type": "code",
   "execution_count": 8,
   "metadata": {},
   "outputs": [],
   "source": [
    "\n",
    "from utils.chunking import mesh_2_voxels\n",
    "\n",
    "# voxelize mesh and store in training dict\n",
    "voxel_grid, coordinates, occupancy_values = mesh_2_voxels(mesh_chunk, voxel_size=0.02)\n",
    "\n",
    "trainings_dict = {\n",
    "    \"mesh\": mesh_chunk,\n",
    "    \"training_data\" : (coordinates, occupancy_values),\n",
    "    \"images\" : (image_names_chunk, camera_params_chunk.values())\n",
    "}"
   ]
  },
  {
   "cell_type": "code",
   "execution_count": 12,
   "metadata": {},
   "outputs": [
    {
     "data": {
      "application/vnd.jupyter.widget-view+json": {
       "model_id": "d09264a83dc949a7a693a9e8b88b8607",
       "version_major": 2,
       "version_minor": 0
      },
      "text/plain": [
       "Widget(value='<iframe src=\"http://localhost:65081/index.html?ui=P_0x2aafa6b10_4&reconnect=auto\" class=\"pyvista…"
      ]
     },
     "metadata": {},
     "output_type": "display_data"
    }
   ],
   "source": [
    "visualize_mesh(voxel_grid.as_boxes(), images=image_names_chunk, camera_params_list=camera_params_chunk.values(), opacity=1.0)"
   ]
  },
  {
   "cell_type": "code",
   "execution_count": 13,
   "metadata": {},
   "outputs": [],
   "source": [
    "#visualize_mesh(voxel_grid.as_boxes(), point_coords=coordinates[occupancy_values == 1], images=image_names_chunk, camera_params_list=camera_params_chunk.values())"
   ]
  },
  {
   "cell_type": "code",
   "execution_count": 14,
   "metadata": {},
   "outputs": [
    {
     "name": "stderr",
     "output_type": "stream",
     "text": [
      "/Users/luis/uni/dl-vc/voxl3r/dataset.py:112: UserWarning: To copy construct from a tensor, it is recommended to use sourceTensor.clone().detach() or sourceTensor.clone().detach().requires_grad_(True), rather than torch.tensor(sourceTensor).\n",
      "  points = torch.tensor(torch.from_numpy(points).float()).to(self.target_device)\n",
      "/Users/luis/uni/dl-vc/voxl3r/dataset.py:113: UserWarning: To copy construct from a tensor, it is recommended to use sourceTensor.clone().detach() or sourceTensor.clone().detach().requires_grad_(True), rather than torch.tensor(sourceTensor).\n",
      "  gt = torch.tensor(torch.from_numpy(gt).float()).to(self.target_device)\n",
      "/Users/luis/uni/dl-vc/voxl3r/.venv/lib/python3.12/site-packages/torch/nn/functional.py:4902: UserWarning: Default grid_sample and affine_grid behavior has changed to align_corners=False since 1.3.0. Please specify align_corners=True if the old behavior is desired. See the documentation of grid_sample for details.\n",
      "  warnings.warn(\n"
     ]
    },
    {
     "data": {
      "application/vnd.jupyter.widget-view+json": {
       "model_id": "9f6a76fe9ff440fb9e75a7a09e9687b4",
       "version_major": 2,
       "version_minor": 0
      },
      "text/plain": [
       "Widget(value='<iframe src=\"http://localhost:65081/index.html?ui=P_0x2aaefad80_5&reconnect=auto\" class=\"pyvista…"
      ]
     },
     "metadata": {},
     "output_type": "display_data"
    }
   ],
   "source": [
    "from models.surface_net_baseline.train import visualize_unprojection\n",
    "\n",
    "visualize_unprojection(trainings_dict)"
   ]
  },
  {
   "cell_type": "code",
   "execution_count": null,
   "metadata": {},
   "outputs": [],
   "source": [
    "from models.surface_net_baseline.train import visualize_unprojection_whole_scene\n",
    "\n",
    "\n",
    "visualize_unprojection_whole_scene(dataset)"
   ]
  },
  {
   "cell_type": "markdown",
   "metadata": {},
   "source": [
    "## Scene Chunking"
   ]
  },
  {
   "cell_type": "code",
   "execution_count": null,
   "metadata": {},
   "outputs": [],
   "source": [
    "from dataset import plot_occupency_grid\n",
    "\n",
    "\n",
    "coordinates, occupancy_values = dataset.create_voxel_grid(idx)\n",
    "plot_occupency_grid({\n",
    "  \"training_data\" : (coordinates, occupancy_values),\n",
    "  \"mesh\" : dataset.data_dir / dataset.scenes[idx] / \"scans\" / \"mesh_aligned_0.05.ply\",\n",
    "})"
   ]
  },
  {
   "cell_type": "code",
   "execution_count": null,
   "metadata": {},
   "outputs": [],
   "source": [
    "import trimesh\n",
    "\n",
    "mesh = trimesh.load(dataset.data_dir / dataset.scenes[idx] / \"scans\" / \"mesh_aligned_0.05.ply\")\n",
    "voxel_grid = mesh.voxelized(0.02)\n",
    "boxes = voxel_grid.as_boxes()\n",
    "visualize_mesh(mesh.voxelized(0.02).as_boxes(), opacity=1)"
   ]
  },
  {
   "cell_type": "code",
   "execution_count": null,
   "metadata": {},
   "outputs": [],
   "source": [
    "visualize_mesh(\n",
    "        dataset.data_dir / dataset.scenes[idx] / \"scans\" / \"mesh_aligned_0.05.ply\"\n",
    "\n",
    "    )"
   ]
  },
  {
   "cell_type": "code",
   "execution_count": null,
   "metadata": {},
   "outputs": [],
   "source": []
  },
  {
   "cell_type": "code",
   "execution_count": null,
   "metadata": {},
   "outputs": [],
   "source": [
    "image_names, camera_params_list, camera_center = data[\"images\"]\n",
    "\n",
    "visualize_mesh(\n",
    "        data[\"mesh\"],\n",
    "        images=image_names,\n",
    "        camera_params_list=camera_params_list,\n",
    "        point_coords=camera_center,\n",
    "    )"
   ]
  },
  {
   "cell_type": "markdown",
   "metadata": {},
   "source": [
    "## Occlupancy Computation"
   ]
  },
  {
   "cell_type": "markdown",
   "metadata": {},
   "source": [
    "## Visualization: Transform to Voxel Grid"
   ]
  },
  {
   "cell_type": "code",
   "execution_count": null,
   "metadata": {},
   "outputs": [],
   "source": [
    "from dataset import plot_occupency_grid\n",
    "\n",
    "plot_occupency_grid(data, resolution=dataset.resolution / 1.1)"
   ]
  },
  {
   "cell_type": "markdown",
   "metadata": {},
   "source": [
    "## Project RGB Values to Scene"
   ]
  },
  {
   "cell_type": "code",
   "execution_count": null,
   "metadata": {},
   "outputs": [],
   "source": [
    "from models.surface_net_baseline.train import visualize_unprojection\n",
    "\n",
    "visualize_unprojection(data)"
   ]
  },
  {
   "cell_type": "markdown",
   "metadata": {},
   "source": [
    "## First Training Run Naive Approach"
   ]
  },
  {
   "cell_type": "code",
   "execution_count": null,
   "metadata": {},
   "outputs": [],
   "source": [
    "from models.surface_net_baseline.data import OccSurfaceNetDatamodule\n",
    "\n",
    "\n",
    "datamodule = OccSurfaceNetDatamodule(\n",
    "        dataset,\n",
    "        [\"0cf2e9402d\", \"0cf2e9402d\", \"0cf2e9402d\"],\n",
    "        batch_size=1,\n",
    "        max_sequence_length=max_seq_len,\n",
    "        single_chunk=False,\n",
    "    )"
   ]
  },
  {
   "cell_type": "code",
   "execution_count": null,
   "metadata": {},
   "outputs": [],
   "source": [
    "# no pos enc w8mnl00u\n",
    "# pos first 02th0eov\n",
    "from utils.visualize import plot_voxel_grid\n",
    "\n",
    "\n",
    "dict = torch.load(\n",
    "        \"./.lightning/occ-surface-net/surface-net-baseline/lpacvi7v/best_ckpts.pt\"\n",
    "    )\n",
    "model_path = dict[\"best_model_val_accuracy\"]\n",
    "\n",
    "# trainer.test(model_path, dataloaders=datamodule)\n",
    "datamodule.prepare_data()\n",
    "datamodule.setup(\"test\")\n",
    "\n",
    "model = OccSurfaceNet.load_from_checkpoint(model_path)\n",
    "test_dict = model.test_visualize(datamodule.test_dataloader())\n",
    "\n",
    "gt = torch.cat(test_dict[\"gt\"])\n",
    "points = torch.cat(test_dict[\"points\"])\n",
    "y = torch.sigmoid(torch.cat(test_dict[\"out\"]))\n",
    "y[y < 0.5] = 0.0\n",
    "y[y > 0.5] = 1.0\n",
    "\n",
    "mesh = (\n",
    "    Path(dataset.data_dir)\n",
    "    / dataset.scenes[datamodule.scene_idx_test]\n",
    "    / \"scans\"\n",
    "    / \"mesh_aligned_0.05.ply\"\n",
    ")\n",
    "mesh = None\n",
    "# visualize_mesh(mesh, point_coords=points.cpu().numpy(), heat_values=y.cpu().numpy())\n",
    "plot_voxel_grid(\n",
    "    points.detach().cpu().numpy(),\n",
    "    y.detach().cpu().numpy(),\n",
    "    ref_mesh=mesh,\n",
    "    resolution=dataset.resolution,\n",
    "    )\n"
   ]
  },
  {
   "cell_type": "code",
   "execution_count": null,
   "metadata": {},
   "outputs": [],
   "source": [
    "from models.surface_net_baseline.data import OccSurfaceNetDatamodule\n",
    "from utils.visualize import plot_voxel_grid\n",
    "\n",
    "max_seq_len = 10\n",
    "scene_dataset = SceneDataset(data_dir=\"datasets/scannetpp/data\", camera=\"iphone\", n_points=300000, threshold_occ=0.01, representation=\"occ\", visualize=True, max_seq_len=max_seq_len)\n",
    "scene_dataset.seed = 42\n",
    "model_path = \".lightning/occ-surface-net/surface-net-baseline/r3cf6z5t/checkpoints/epoch=262-step=24459.00-val_accuracy=0.89.ckpt\"\n",
    "\n",
    "model = OccSurfaceNet.load_from_checkpoint(model_path)\n",
    "datamodule = OccSurfaceNetDatamodule(scene_dataset, \"8b2c0938d6\", batch_size=128, max_sequence_length=max_seq_len)\n",
    "datamodule.setup('test')\n",
    "test_dict = model.test_visualize(datamodule.test_dataloader())\n",
    "\n",
    "gt = torch.cat(test_dict['gt'])\n",
    "points = torch.cat(test_dict['points'])\n",
    "y = torch.sigmoid(torch.cat(test_dict['out']))\n",
    "#y[y < 0.5] = 0.0\n",
    "#y[y > 0.5] = 1.0\n",
    "\n",
    "mesh = Path(scene_dataset.data_dir) / scene_dataset.scenes[datamodule.scene_idx] / \"scans\" / \"mesh_aligned_0.05.ply\"\n",
    "visualize_mesh(mesh, point_coords=points.detach().cpu().numpy(), heat_values=y.detach().cpu().numpy())\n",
    "#plot_voxel_grid(points.detach().cpu().numpy(), y.detach().cpu().numpy(), ref_mesh=mesh)"
   ]
  },
  {
   "cell_type": "code",
   "execution_count": null,
   "metadata": {},
   "outputs": [],
   "source": [
    "occ = y.clone()\n",
    "occ[y < 0.5] = 0.0\n",
    "occ[y > 0.5] = 1.0\n",
    "plot_voxel_grid(points.detach().cpu().numpy(), occ.detach().cpu().numpy(), ref_mesh=mesh)"
   ]
  },
  {
   "cell_type": "code",
   "execution_count": null,
   "metadata": {},
   "outputs": [],
   "source": []
  }
 ],
 "metadata": {
  "kernelspec": {
   "display_name": ".venv",
   "language": "python",
   "name": "python3"
  },
  "language_info": {
   "codemirror_mode": {
    "name": "ipython",
    "version": 3
   },
   "file_extension": ".py",
   "mimetype": "text/x-python",
   "name": "python",
   "nbconvert_exporter": "python",
   "pygments_lexer": "ipython3",
   "version": "3.12.3"
  }
 },
 "nbformat": 4,
 "nbformat_minor": 2
}
